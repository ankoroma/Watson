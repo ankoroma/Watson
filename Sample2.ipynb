{
    "metadata": {
        "kernelspec": {
            "name": "python3",
            "display_name": "Python 3.11",
            "language": "python"
        },
        "language_info": {
            "name": "python",
            "version": "3.11.9",
            "mimetype": "text/x-python",
            "codemirror_mode": {
                "name": "ipython",
                "version": 3
            },
            "pygments_lexer": "ipython3",
            "nbconvert_exporter": "python",
            "file_extension": ".py"
        }
    },
    "nbformat_minor": 4,
    "nbformat": 4,
    "cells": [
        {
            "cell_type": "markdown",
            "source": "# My Jupyter Notebook on IBM Watson Studio",
            "metadata": {
                "collapsed": true,
                "jupyter": {
                    "outputs_hidden": true
                },
                "id": "1b425b0e-7e38-41b0-a8d9-7c9a422acc0d"
            }
        },
        {
            "cell_type": "markdown",
            "source": "**Alhassan Koroma**\n\nData Scientist",
            "metadata": {
                "id": "a2758601-6010-4197-9970-b04ca6e55982"
            }
        },
        {
            "cell_type": "markdown",
            "source": "*I'm interested in data science because it is the future*",
            "metadata": {
                "id": "f876a837-ea98-4bfe-995b-706f364300a1"
            }
        },
        {
            "cell_type": "markdown",
            "source": "### The code below returns **Hello, World!**",
            "metadata": {
                "id": "114a249e-1e6f-427c-874a-e49c65e1d81f"
            }
        },
        {
            "cell_type": "code",
            "source": "print('Hello, World!')",
            "metadata": {
                "id": "bc0ff758-373f-4b1f-8959-857926b84eaa"
            },
            "outputs": [
                {
                    "name": "stdout",
                    "text": "Hello, World!\n",
                    "output_type": "stream"
                }
            ],
            "execution_count": 1
        },
        {
            "cell_type": "markdown",
            "source": "- Apple\n- Orange\n- Banana\n\n1. One\n2. Two\n3. Three\n\n|Fruit | Number |\n| ---- | ---- |\n|Apple | One |\n|Orange | Two |\n|Banana | Three |",
            "metadata": {
                "id": "7e07f39c-a234-4efa-b4c2-f416580e0443"
            }
        },
        {
            "cell_type": "code",
            "source": "",
            "metadata": {
                "id": "1d06b838-21a1-4bb5-9686-0ad41624d527"
            },
            "outputs": [],
            "execution_count": null
        }
    ]
}