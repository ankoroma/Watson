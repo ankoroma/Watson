{
    "cells": [
        {
            "cell_type": "markdown",
            "metadata": {
                "collapsed": true,
                "id": "b3e7d1d2-26c3-490b-a4eb-7cc993c313e0",
                "jupyter": {
                    "outputs_hidden": true
                }
            },
            "source": "This program prints Hello, Wordl!"
        },
        {
            "cell_type": "code",
            "execution_count": 1,
            "metadata": {
                "id": "46c02fcf-1e6b-4410-b251-243cf1a24af2"
            },
            "outputs": [
                {
                    "name": "stdout",
                    "output_type": "stream",
                    "text": "Hello, World!\n"
                }
            ],
            "source": "print('Hello, World!')"
        },
        {
            "cell_type": "code",
            "execution_count": 2,
            "metadata": {
                "id": "d8751ccf-33a7-4369-83e6-3da429ddc04d"
            },
            "outputs": [
                {
                    "data": {
                        "text/html": "<div>\n<style scoped>\n    .dataframe tbody tr th:only-of-type {\n        vertical-align: middle;\n    }\n\n    .dataframe tbody tr th {\n        vertical-align: top;\n    }\n\n    .dataframe thead th {\n        text-align: right;\n    }\n</style>\n<table border=\"1\" class=\"dataframe\">\n  <thead>\n    <tr style=\"text-align: right;\">\n      <th></th>\n      <th>school</th>\n      <th>sex</th>\n      <th>age</th>\n      <th>address</th>\n      <th>famsize</th>\n      <th>Pstatus</th>\n      <th>Medu</th>\n      <th>Fedu</th>\n      <th>Mjob</th>\n      <th>Fjob</th>\n      <th>...</th>\n      <th>famrel</th>\n      <th>freetime</th>\n      <th>goout</th>\n      <th>Dalc</th>\n      <th>Walc</th>\n      <th>health</th>\n      <th>absences</th>\n      <th>G1</th>\n      <th>G2</th>\n      <th>G3</th>\n    </tr>\n  </thead>\n  <tbody>\n    <tr>\n      <th>0</th>\n      <td>GP</td>\n      <td>F</td>\n      <td>18</td>\n      <td>U</td>\n      <td>GT3</td>\n      <td>A</td>\n      <td>higher education</td>\n      <td>higher education</td>\n      <td>at_home</td>\n      <td>teacher</td>\n      <td>...</td>\n      <td>4</td>\n      <td>3</td>\n      <td>4</td>\n      <td>1</td>\n      <td>1</td>\n      <td>3</td>\n      <td>4</td>\n      <td>0</td>\n      <td>11</td>\n      <td>11</td>\n    </tr>\n    <tr>\n      <th>1</th>\n      <td>GP</td>\n      <td>F</td>\n      <td>17</td>\n      <td>U</td>\n      <td>GT3</td>\n      <td>T</td>\n      <td>primary education (4th grade)</td>\n      <td>primary education (4th grade)</td>\n      <td>at_home</td>\n      <td>other</td>\n      <td>...</td>\n      <td>5</td>\n      <td>3</td>\n      <td>3</td>\n      <td>1</td>\n      <td>1</td>\n      <td>3</td>\n      <td>2</td>\n      <td>9</td>\n      <td>11</td>\n      <td>11</td>\n    </tr>\n    <tr>\n      <th>2</th>\n      <td>GP</td>\n      <td>F</td>\n      <td>15</td>\n      <td>U</td>\n      <td>LE3</td>\n      <td>T</td>\n      <td>primary education (4th grade)</td>\n      <td>primary education (4th grade)</td>\n      <td>at_home</td>\n      <td>other</td>\n      <td>...</td>\n      <td>4</td>\n      <td>3</td>\n      <td>2</td>\n      <td>2</td>\n      <td>3</td>\n      <td>3</td>\n      <td>6</td>\n      <td>12</td>\n      <td>13</td>\n      <td>12</td>\n    </tr>\n    <tr>\n      <th>3</th>\n      <td>GP</td>\n      <td>F</td>\n      <td>15</td>\n      <td>U</td>\n      <td>GT3</td>\n      <td>T</td>\n      <td>higher education</td>\n      <td>5th to 9th grade</td>\n      <td>health</td>\n      <td>services</td>\n      <td>...</td>\n      <td>3</td>\n      <td>2</td>\n      <td>2</td>\n      <td>1</td>\n      <td>1</td>\n      <td>5</td>\n      <td>0</td>\n      <td>14</td>\n      <td>14</td>\n      <td>14</td>\n    </tr>\n    <tr>\n      <th>4</th>\n      <td>GP</td>\n      <td>F</td>\n      <td>16</td>\n      <td>U</td>\n      <td>GT3</td>\n      <td>T</td>\n      <td>secondary education</td>\n      <td>secondary education</td>\n      <td>other</td>\n      <td>other</td>\n      <td>...</td>\n      <td>4</td>\n      <td>3</td>\n      <td>2</td>\n      <td>1</td>\n      <td>2</td>\n      <td>5</td>\n      <td>0</td>\n      <td>11</td>\n      <td>13</td>\n      <td>13</td>\n    </tr>\n    <tr>\n      <th>5</th>\n      <td>GP</td>\n      <td>M</td>\n      <td>16</td>\n      <td>U</td>\n      <td>LE3</td>\n      <td>T</td>\n      <td>higher education</td>\n      <td>secondary education</td>\n      <td>services</td>\n      <td>other</td>\n      <td>...</td>\n      <td>5</td>\n      <td>4</td>\n      <td>2</td>\n      <td>1</td>\n      <td>2</td>\n      <td>5</td>\n      <td>6</td>\n      <td>12</td>\n      <td>12</td>\n      <td>13</td>\n    </tr>\n    <tr>\n      <th>6</th>\n      <td>GP</td>\n      <td>M</td>\n      <td>16</td>\n      <td>U</td>\n      <td>LE3</td>\n      <td>T</td>\n      <td>5th to 9th grade</td>\n      <td>5th to 9th grade</td>\n      <td>other</td>\n      <td>other</td>\n      <td>...</td>\n      <td>4</td>\n      <td>4</td>\n      <td>4</td>\n      <td>1</td>\n      <td>1</td>\n      <td>3</td>\n      <td>0</td>\n      <td>13</td>\n      <td>12</td>\n      <td>13</td>\n    </tr>\n    <tr>\n      <th>7</th>\n      <td>GP</td>\n      <td>F</td>\n      <td>17</td>\n      <td>U</td>\n      <td>GT3</td>\n      <td>A</td>\n      <td>higher education</td>\n      <td>higher education</td>\n      <td>other</td>\n      <td>teacher</td>\n      <td>...</td>\n      <td>4</td>\n      <td>1</td>\n      <td>4</td>\n      <td>1</td>\n      <td>1</td>\n      <td>1</td>\n      <td>2</td>\n      <td>10</td>\n      <td>13</td>\n      <td>13</td>\n    </tr>\n    <tr>\n      <th>8</th>\n      <td>GP</td>\n      <td>M</td>\n      <td>15</td>\n      <td>U</td>\n      <td>LE3</td>\n      <td>A</td>\n      <td>secondary education</td>\n      <td>5th to 9th grade</td>\n      <td>services</td>\n      <td>other</td>\n      <td>...</td>\n      <td>4</td>\n      <td>2</td>\n      <td>2</td>\n      <td>1</td>\n      <td>1</td>\n      <td>1</td>\n      <td>0</td>\n      <td>15</td>\n      <td>16</td>\n      <td>17</td>\n    </tr>\n    <tr>\n      <th>9</th>\n      <td>GP</td>\n      <td>M</td>\n      <td>15</td>\n      <td>U</td>\n      <td>GT3</td>\n      <td>T</td>\n      <td>secondary education</td>\n      <td>higher education</td>\n      <td>other</td>\n      <td>other</td>\n      <td>...</td>\n      <td>5</td>\n      <td>5</td>\n      <td>1</td>\n      <td>1</td>\n      <td>1</td>\n      <td>5</td>\n      <td>0</td>\n      <td>12</td>\n      <td>12</td>\n      <td>13</td>\n    </tr>\n  </tbody>\n</table>\n<p>10 rows \u00d7 33 columns</p>\n</div>",
                        "text/plain": "  school sex  age address famsize Pstatus                           Medu  \\\n0     GP   F   18       U     GT3       A               higher education   \n1     GP   F   17       U     GT3       T  primary education (4th grade)   \n2     GP   F   15       U     LE3       T  primary education (4th grade)   \n3     GP   F   15       U     GT3       T               higher education   \n4     GP   F   16       U     GT3       T            secondary education   \n5     GP   M   16       U     LE3       T               higher education   \n6     GP   M   16       U     LE3       T               5th to 9th grade   \n7     GP   F   17       U     GT3       A               higher education   \n8     GP   M   15       U     LE3       A            secondary education   \n9     GP   M   15       U     GT3       T            secondary education   \n\n                            Fedu      Mjob      Fjob  ... famrel freetime  \\\n0               higher education   at_home   teacher  ...      4        3   \n1  primary education (4th grade)   at_home     other  ...      5        3   \n2  primary education (4th grade)   at_home     other  ...      4        3   \n3               5th to 9th grade    health  services  ...      3        2   \n4            secondary education     other     other  ...      4        3   \n5            secondary education  services     other  ...      5        4   \n6               5th to 9th grade     other     other  ...      4        4   \n7               higher education     other   teacher  ...      4        1   \n8               5th to 9th grade  services     other  ...      4        2   \n9               higher education     other     other  ...      5        5   \n\n   goout  Dalc  Walc health absences  G1  G2  G3  \n0      4     1     1      3        4   0  11  11  \n1      3     1     1      3        2   9  11  11  \n2      2     2     3      3        6  12  13  12  \n3      2     1     1      5        0  14  14  14  \n4      2     1     2      5        0  11  13  13  \n5      2     1     2      5        6  12  12  13  \n6      4     1     1      3        0  13  12  13  \n7      4     1     1      1        2  10  13  13  \n8      2     1     1      1        0  15  16  17  \n9      1     1     1      5        0  12  12  13  \n\n[10 rows x 33 columns]"
                    },
                    "execution_count": 2,
                    "metadata": {},
                    "output_type": "execute_result"
                }
            ],
            "source": "# The code was removed by Watson Studio for sharing."
        },
        {
            "cell_type": "code",
            "execution_count": null,
            "metadata": {
                "id": "60601c94-14ae-42f4-bb85-079e3949d3d4"
            },
            "outputs": [],
            "source": ""
        }
    ],
    "metadata": {
        "kernelspec": {
            "display_name": "Python 3.11",
            "language": "python",
            "name": "python3"
        },
        "language_info": {
            "codemirror_mode": {
                "name": "ipython",
                "version": 3
            },
            "file_extension": ".py",
            "mimetype": "text/x-python",
            "name": "python",
            "nbconvert_exporter": "python",
            "pygments_lexer": "ipython3",
            "version": "3.11.9"
        }
    },
    "nbformat": 4,
    "nbformat_minor": 4
}